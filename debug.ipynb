{
 "cells": [
  {
   "cell_type": "code",
   "execution_count": 5,
   "id": "initial_id",
   "metadata": {
    "collapsed": true,
    "ExecuteTime": {
     "end_time": "2025-07-08T08:01:39.058918Z",
     "start_time": "2025-07-08T08:01:39.055814Z"
    }
   },
   "outputs": [],
   "source": [
    "from assets.CustomTransformer import TransformerEncoderLayer,TransformerDecoderLayer\n",
    "from assets.utils import PositionalEncoding,generate_square_subsequent_mask\n",
    "import torch.utils.data as data\n",
    "import torch"
   ]
  },
  {
   "cell_type": "code",
   "outputs": [],
   "source": [
    "X_train = torch.tensor([[\n",
    "    [1,3,5,7],\n",
    "    [2,4,6,8]\n",
    "],\n",
    "[\n",
    "    [9,11,13,17],\n",
    "    [10,12,14,16]\n",
    "]],dtype=torch.float32)\n",
    "\n",
    "y_train = torch.tensor([[\n",
    "    [2,6,10,14],\n",
    "    [4,8,12,16]\n",
    "],\n",
    "[\n",
    "    [18,22,26,34],\n",
    "    [20,24,28,32]\n",
    "]],dtype=torch.float32)\n",
    "\n",
    "#loader = data.DataLoader(data.TensorDataset())\n",
    "loader = data.DataLoader(data.TensorDataset(X_train,y_train),shuffle=True,batch_size=8)\n"
   ],
   "metadata": {
    "collapsed": false,
    "ExecuteTime": {
     "end_time": "2025-07-08T08:02:51.640675Z",
     "start_time": "2025-07-08T08:02:51.627739Z"
    }
   },
   "id": "75c2030702685da0",
   "execution_count": 7
  },
  {
   "cell_type": "code",
   "outputs": [
    {
     "data": {
      "text/plain": "<torch.utils.data.dataloader.DataLoader at 0x11b556e50>"
     },
     "execution_count": 8,
     "metadata": {},
     "output_type": "execute_result"
    }
   ],
   "source": [
    "loader"
   ],
   "metadata": {
    "collapsed": false,
    "ExecuteTime": {
     "end_time": "2025-07-08T08:02:54.775376Z",
     "start_time": "2025-07-08T08:02:54.770624Z"
    }
   },
   "id": "5e565c9a194e7be0",
   "execution_count": 8
  }
 ],
 "metadata": {
  "kernelspec": {
   "display_name": "Python 3",
   "language": "python",
   "name": "python3"
  },
  "language_info": {
   "codemirror_mode": {
    "name": "ipython",
    "version": 2
   },
   "file_extension": ".py",
   "mimetype": "text/x-python",
   "name": "python",
   "nbconvert_exporter": "python",
   "pygments_lexer": "ipython2",
   "version": "2.7.6"
  }
 },
 "nbformat": 4,
 "nbformat_minor": 5
}
